{
 "cells": [
  {
   "cell_type": "code",
   "execution_count": 1,
   "id": "294ad9b7",
   "metadata": {},
   "outputs": [],
   "source": [
    "import pandas as pd\n",
    "import numpy as np\n",
    "import matplotlib.pyplot as plt\n",
    "import seaborn as sns"
   ]
  },
  {
   "cell_type": "code",
   "execution_count": 2,
   "id": "d7fc5616",
   "metadata": {},
   "outputs": [
    {
     "data": {
      "text/html": [
       "<div>\n",
       "<style scoped>\n",
       "    .dataframe tbody tr th:only-of-type {\n",
       "        vertical-align: middle;\n",
       "    }\n",
       "\n",
       "    .dataframe tbody tr th {\n",
       "        vertical-align: top;\n",
       "    }\n",
       "\n",
       "    .dataframe thead th {\n",
       "        text-align: right;\n",
       "    }\n",
       "</style>\n",
       "<table border=\"1\" class=\"dataframe\">\n",
       "  <thead>\n",
       "    <tr style=\"text-align: right;\">\n",
       "      <th></th>\n",
       "      <th>Year</th>\n",
       "      <th>Price</th>\n",
       "    </tr>\n",
       "  </thead>\n",
       "  <tbody>\n",
       "    <tr>\n",
       "      <th>0</th>\n",
       "      <td>2018</td>\n",
       "      <td>465000</td>\n",
       "    </tr>\n",
       "    <tr>\n",
       "      <th>1</th>\n",
       "      <td>2019</td>\n",
       "      <td>755000</td>\n",
       "    </tr>\n",
       "    <tr>\n",
       "      <th>2</th>\n",
       "      <td>2019</td>\n",
       "      <td>700000</td>\n",
       "    </tr>\n",
       "    <tr>\n",
       "      <th>3</th>\n",
       "      <td>2018</td>\n",
       "      <td>465000</td>\n",
       "    </tr>\n",
       "    <tr>\n",
       "      <th>4</th>\n",
       "      <td>2018</td>\n",
       "      <td>465000</td>\n",
       "    </tr>\n",
       "  </tbody>\n",
       "</table>\n",
       "</div>"
      ],
      "text/plain": [
       "   Year   Price\n",
       "0  2018  465000\n",
       "1  2019  755000\n",
       "2  2019  700000\n",
       "3  2018  465000\n",
       "4  2018  465000"
      ]
     },
     "execution_count": 2,
     "metadata": {},
     "output_type": "execute_result"
    }
   ],
   "source": [
    "data = pd.read_csv(r'C:\\Users\\PREM\\Desktop\\Assignment of DSA\\car_age_price.csv')\n",
    "data.head()"
   ]
  },
  {
   "cell_type": "code",
   "execution_count": 3,
   "id": "46d7e4d7",
   "metadata": {},
   "outputs": [
    {
     "data": {
      "text/plain": [
       "(112, 2)"
      ]
     },
     "execution_count": 3,
     "metadata": {},
     "output_type": "execute_result"
    }
   ],
   "source": [
    "# Basic details of dataset\n",
    "data.shape"
   ]
  },
  {
   "cell_type": "code",
   "execution_count": 4,
   "id": "e5e91570",
   "metadata": {},
   "outputs": [
    {
     "name": "stdout",
     "output_type": "stream",
     "text": [
      "<class 'pandas.core.frame.DataFrame'>\n",
      "RangeIndex: 112 entries, 0 to 111\n",
      "Data columns (total 2 columns):\n",
      " #   Column  Non-Null Count  Dtype\n",
      "---  ------  --------------  -----\n",
      " 0   Year    112 non-null    int64\n",
      " 1   Price   112 non-null    int64\n",
      "dtypes: int64(2)\n",
      "memory usage: 1.9 KB\n"
     ]
    }
   ],
   "source": [
    "data.info()"
   ]
  },
  {
   "cell_type": "code",
   "execution_count": 5,
   "id": "08e1a0a8",
   "metadata": {},
   "outputs": [
    {
     "data": {
      "text/plain": [
       "Year     0\n",
       "Price    0\n",
       "dtype: int64"
      ]
     },
     "execution_count": 5,
     "metadata": {},
     "output_type": "execute_result"
    }
   ],
   "source": [
    "data.isna().sum()"
   ]
  },
  {
   "cell_type": "code",
   "execution_count": 6,
   "id": "7239167e",
   "metadata": {},
   "outputs": [
    {
     "data": {
      "image/png": "[encoded data removed]",
      "text/plain": [
       "<Figure size 640x480 with 1 Axes>"
      ]
     },
     "metadata": {},
     "output_type": "display_data"
    },
    {
     "data": {
      "image/png": "[encoded data removed]",
      "text/plain": [
       "<Figure size 640x480 with 1 Axes>"
      ]
     },
     "metadata": {},
     "output_type": "display_data"
    }
   ],
   "source": [
    "#Finding outliers of given data\n",
    "num_cols =['Year', 'Price']\n",
    "for i in num_cols:\n",
    "    plt.figure()\n",
    "    plt.boxplot(data[i])\n",
    "    plt.title(i)"
   ]
  },
  {
   "cell_type": "code",
   "execution_count": 7,
   "id": "86e88cbe",
   "metadata": {},
   "outputs": [
    {
     "name": "stderr",
     "output_type": "stream",
     "text": [
      "C:\\Users\\PREM\\AppData\\Local\\Temp\\ipykernel_9364\\3368312525.py:1: DeprecationWarning: the `interpolation=` argument to percentile was renamed to `method=`, which has additional options.\n",
      "Users of the modes 'nearest', 'lower', 'higher', or 'midpoint' are encouraged to review the method they used. (Deprecated NumPy 1.22)\n",
      "  Q1 = np.percentile(data['Price'],25,interpolation='midpoint')\n",
      "C:\\Users\\PREM\\AppData\\Local\\Temp\\ipykernel_9364\\3368312525.py:2: DeprecationWarning: the `interpolation=` argument to percentile was renamed to `method=`, which has additional options.\n",
      "Users of the modes 'nearest', 'lower', 'higher', or 'midpoint' are encouraged to review the method they used. (Deprecated NumPy 1.22)\n",
      "  Q2 = np.percentile(data['Price'],50,interpolation='midpoint')\n",
      "C:\\Users\\PREM\\AppData\\Local\\Temp\\ipykernel_9364\\3368312525.py:3: DeprecationWarning: the `interpolation=` argument to percentile was renamed to `method=`, which has additional options.\n",
      "Users of the modes 'nearest', 'lower', 'higher', or 'midpoint' are encouraged to review the method they used. (Deprecated NumPy 1.22)\n",
      "  Q3 = np.percentile(data['Price'],75,interpolation='midpoint')\n"
     ]
    }
   ],
   "source": [
    "Q1 = np.percentile(data['Price'],25,interpolation='midpoint')\n",
    "Q2 = np.percentile(data['Price'],50,interpolation='midpoint')\n",
    "Q3 = np.percentile(data['Price'],75,interpolation='midpoint')"
   ]
  },
  {
   "cell_type": "code",
   "execution_count": 8,
   "id": "6b142304",
   "metadata": {},
   "outputs": [
    {
     "name": "stdout",
     "output_type": "stream",
     "text": [
      "422500.0\n",
      "500000.0\n",
      "550000.0\n"
     ]
    }
   ],
   "source": [
    "print(Q1)\n",
    "print(Q2)\n",
    "print(Q3)"
   ]
  },
  {
   "cell_type": "code",
   "execution_count": 9,
   "id": "a81b0875",
   "metadata": {},
   "outputs": [
    {
     "data": {
      "text/plain": [
       "500000.0"
      ]
     },
     "execution_count": 9,
     "metadata": {},
     "output_type": "execute_result"
    }
   ],
   "source": [
    "data['Price'].median()"
   ]
  },
  {
   "cell_type": "code",
   "execution_count": 10,
   "id": "f66d0591",
   "metadata": {},
   "outputs": [
    {
     "name": "stdout",
     "output_type": "stream",
     "text": [
      "127500.0\n"
     ]
    }
   ],
   "source": [
    "IQR = Q3-Q1\n",
    "print(IQR)"
   ]
  },
  {
   "cell_type": "code",
   "execution_count": 11,
   "id": "82984200",
   "metadata": {},
   "outputs": [
    {
     "name": "stdout",
     "output_type": "stream",
     "text": [
      "741250.0\n",
      "231250.0\n"
     ]
    }
   ],
   "source": [
    "up_lim = Q3+1.5*IQR\n",
    "low_lim =Q1-1.5*IQR\n",
    "print(up_lim)\n",
    "print(low_lim)"
   ]
  },
  {
   "cell_type": "code",
   "execution_count": 12,
   "id": "ab277577",
   "metadata": {},
   "outputs": [],
   "source": [
    "outliers = []\n",
    "for x in data['Price']:\n",
    "    if(x>up_lim) or (x<low_lim):\n",
    "        outliers.append(x)"
   ]
  },
  {
   "cell_type": "code",
   "execution_count": 13,
   "id": "71c3f1f0",
   "metadata": {},
   "outputs": [
    {
     "data": {
      "text/plain": [
       "[755000]"
      ]
     },
     "execution_count": 13,
     "metadata": {},
     "output_type": "execute_result"
    }
   ],
   "source": [
    "outliers"
   ]
  },
  {
   "cell_type": "code",
   "execution_count": 14,
   "id": "b09df3b1",
   "metadata": {},
   "outputs": [
    {
     "data": {
      "text/plain": [
       "Int64Index([1], dtype='int64')"
      ]
     },
     "execution_count": 14,
     "metadata": {},
     "output_type": "execute_result"
    }
   ],
   "source": [
    "ind1 =data['Price']>up_lim\n",
    "data.loc[ind1].index"
   ]
  },
  {
   "cell_type": "code",
   "execution_count": 15,
   "id": "245eb505",
   "metadata": {},
   "outputs": [],
   "source": [
    "data.drop([1],inplace=True)"
   ]
  },
  {
   "cell_type": "code",
   "execution_count": 16,
   "id": "96269136",
   "metadata": {},
   "outputs": [
    {
     "data": {
      "text/plain": [
       "(111, 2)"
      ]
     },
     "execution_count": 16,
     "metadata": {},
     "output_type": "execute_result"
    }
   ],
   "source": [
    "data.shape"
   ]
  },
  {
   "cell_type": "code",
   "execution_count": 17,
   "id": "651fbfb0",
   "metadata": {},
   "outputs": [
    {
     "data": {
      "text/plain": [
       "{'whiskers': [<matplotlib.lines.Line2D at 0x24a1c7eb070>,\n",
       "  <matplotlib.lines.Line2D at 0x24a1c7eb310>],\n",
       " 'caps': [<matplotlib.lines.Line2D at 0x24a1c7eb5b0>,\n",
       "  <matplotlib.lines.Line2D at 0x24a1c7eb850>],\n",
       " 'boxes': [<matplotlib.lines.Line2D at 0x24a1c7eadd0>],\n",
       " 'medians': [<matplotlib.lines.Line2D at 0x24a1c7ebaf0>],\n",
       " 'fliers': [<matplotlib.lines.Line2D at 0x24a1c7ebd90>],\n",
       " 'means': []}"
      ]
     },
     "execution_count": 17,
     "metadata": {},
     "output_type": "execute_result"
    },
    {
     "data": {
      "image/png": "[encoded data removed]",
      "text/plain": [
       "<Figure size 640x480 with 1 Axes>"
      ]
     },
     "metadata": {},
     "output_type": "display_data"
    }
   ],
   "source": [
    "# Remove the outliers of price\n",
    "plt.boxplot(data['Price'])"
   ]
  },
  {
   "cell_type": "code",
   "execution_count": 18,
   "id": "50dfe25a",
   "metadata": {},
   "outputs": [],
   "source": [
    "#onehot encoding\n",
    "data1 = pd.get_dummies(data)"
   ]
  },
  {
   "cell_type": "code",
   "execution_count": 19,
   "id": "a9ca86a0",
   "metadata": {},
   "outputs": [
    {
     "data": {
      "text/plain": [
       "<Axes: >"
      ]
     },
     "execution_count": 19,
     "metadata": {},
     "output_type": "execute_result"
    },
    {
     "data": {
      "image/png": "[encoded data removed]",
      "text/plain": [
       "<Figure size 640x480 with 2 Axes>"
      ]
     },
     "metadata": {},
     "output_type": "display_data"
    }
   ],
   "source": [
    "corrmatrix =data.corr()\n",
    "sns.heatmap(corrmatrix,annot =True)"
   ]
  },
  {
   "cell_type": "code",
   "execution_count": 20,
   "id": "c50e594f",
   "metadata": {},
   "outputs": [
    {
     "data": {
      "text/plain": [
       "Index(['Year', 'Price'], dtype='object')"
      ]
     },
     "execution_count": 20,
     "metadata": {},
     "output_type": "execute_result"
    }
   ],
   "source": [
    "data.columns  "
   ]
  },
  {
   "cell_type": "code",
   "execution_count": 21,
   "id": "c0a7c02d",
   "metadata": {},
   "outputs": [
    {
     "data": {
      "text/plain": [
       "(111, 2)"
      ]
     },
     "execution_count": 21,
     "metadata": {},
     "output_type": "execute_result"
    }
   ],
   "source": [
    "data1.shape"
   ]
  },
  {
   "cell_type": "code",
   "execution_count": 22,
   "id": "d9dbdff3",
   "metadata": {},
   "outputs": [
    {
     "data": {
      "text/plain": [
       "Year     int64\n",
       "Price    int64\n",
       "dtype: object"
      ]
     },
     "execution_count": 22,
     "metadata": {},
     "output_type": "execute_result"
    }
   ],
   "source": [
    "data.dtypes"
   ]
  },
  {
   "cell_type": "code",
   "execution_count": 23,
   "id": "497a0dc3",
   "metadata": {},
   "outputs": [
    {
     "data": {
      "text/html": [
       "<div>\n",
       "<style scoped>\n",
       "    .dataframe tbody tr th:only-of-type {\n",
       "        vertical-align: middle;\n",
       "    }\n",
       "\n",
       "    .dataframe tbody tr th {\n",
       "        vertical-align: top;\n",
       "    }\n",
       "\n",
       "    .dataframe thead th {\n",
       "        text-align: right;\n",
       "    }\n",
       "</style>\n",
       "<table border=\"1\" class=\"dataframe\">\n",
       "  <thead>\n",
       "    <tr style=\"text-align: right;\">\n",
       "      <th></th>\n",
       "      <th>Year</th>\n",
       "      <th>Price</th>\n",
       "    </tr>\n",
       "  </thead>\n",
       "  <tbody>\n",
       "    <tr>\n",
       "      <th>count</th>\n",
       "      <td>111.000000</td>\n",
       "      <td>111.000000</td>\n",
       "    </tr>\n",
       "    <tr>\n",
       "      <th>mean</th>\n",
       "      <td>2016.648649</td>\n",
       "      <td>481423.396396</td>\n",
       "    </tr>\n",
       "    <tr>\n",
       "      <th>std</th>\n",
       "      <td>1.621720</td>\n",
       "      <td>87874.563371</td>\n",
       "    </tr>\n",
       "    <tr>\n",
       "      <th>min</th>\n",
       "      <td>2013.000000</td>\n",
       "      <td>300000.000000</td>\n",
       "    </tr>\n",
       "    <tr>\n",
       "      <th>25%</th>\n",
       "      <td>2015.000000</td>\n",
       "      <td>422500.000000</td>\n",
       "    </tr>\n",
       "    <tr>\n",
       "      <th>50%</th>\n",
       "      <td>2017.000000</td>\n",
       "      <td>500000.000000</td>\n",
       "    </tr>\n",
       "    <tr>\n",
       "      <th>75%</th>\n",
       "      <td>2017.000000</td>\n",
       "      <td>550000.000000</td>\n",
       "    </tr>\n",
       "    <tr>\n",
       "      <th>max</th>\n",
       "      <td>2020.000000</td>\n",
       "      <td>700000.000000</td>\n",
       "    </tr>\n",
       "  </tbody>\n",
       "</table>\n",
       "</div>"
      ],
      "text/plain": [
       "              Year          Price\n",
       "count   111.000000     111.000000\n",
       "mean   2016.648649  481423.396396\n",
       "std       1.621720   87874.563371\n",
       "min    2013.000000  300000.000000\n",
       "25%    2015.000000  422500.000000\n",
       "50%    2017.000000  500000.000000\n",
       "75%    2017.000000  550000.000000\n",
       "max    2020.000000  700000.000000"
      ]
     },
     "execution_count": 23,
     "metadata": {},
     "output_type": "execute_result"
    }
   ],
   "source": [
    "data.describe()"
   ]
  },
  {
   "cell_type": "code",
   "execution_count": 24,
   "id": "bf5330c2",
   "metadata": {},
   "outputs": [],
   "source": [
    "y = data['Price']\n",
    "x =data.drop(['Price'],axis =1)"
   ]
  },
  {
   "cell_type": "code",
   "execution_count": 25,
   "id": "205c3b8f",
   "metadata": {},
   "outputs": [],
   "source": [
    "from sklearn.model_selection import train_test_split"
   ]
  },
  {
   "cell_type": "code",
   "execution_count": 26,
   "id": "96aabdbd",
   "metadata": {},
   "outputs": [],
   "source": [
    "x_train,x_test,y_train,y_test = train_test_split(x,y,test_size=0.25,random_state=42)"
   ]
  },
  {
   "cell_type": "code",
   "execution_count": 27,
   "id": "656ef8d4",
   "metadata": {},
   "outputs": [
    {
     "data": {
      "text/plain": [
       "(     Year\n",
       " 16   2017\n",
       " 45   2018\n",
       " 90   2017\n",
       " 91   2017\n",
       " 10   2019\n",
       " ..    ...\n",
       " 107  2016\n",
       " 15   2017\n",
       " 93   2017\n",
       " 52   2013\n",
       " 103  2017\n",
       " \n",
       " [83 rows x 1 columns],\n",
       "      Year\n",
       " 79   2015\n",
       " 11   2018\n",
       " 5    2015\n",
       " 85   2015\n",
       " 65   2017\n",
       " 69   2015\n",
       " 31   2017\n",
       " 46   2019\n",
       " 97   2020\n",
       " 12   2017\n",
       " 80   2015\n",
       " 81   2014\n",
       " 0    2018\n",
       " 82   2015\n",
       " 19   2017\n",
       " 71   2017\n",
       " 57   2017\n",
       " 73   2013\n",
       " 110  2016\n",
       " 43   2019\n",
       " 13   2019\n",
       " 37   2017\n",
       " 66   2017\n",
       " 27   2017\n",
       " 23   2017\n",
       " 32   2017\n",
       " 48   2016\n",
       " 77   2015)"
      ]
     },
     "execution_count": 27,
     "metadata": {},
     "output_type": "execute_result"
    }
   ],
   "source": [
    "x_train,x_test"
   ]
  },
  {
   "cell_type": "code",
   "execution_count": 28,
   "id": "f1c5b712",
   "metadata": {},
   "outputs": [
    {
     "data": {
      "text/plain": [
       "(16     500000\n",
       " 45     450000\n",
       " 90     520000\n",
       " 91     520000\n",
       " 10     500000\n",
       "         ...  \n",
       " 107    375000\n",
       " 15     500000\n",
       " 93     520000\n",
       " 52     345000\n",
       " 103    375000\n",
       " Name: Price, Length: 83, dtype: int64,\n",
       " 79     400000\n",
       " 11     500000\n",
       " 5      350000\n",
       " 85     320000\n",
       " 65     495000\n",
       " 69     300000\n",
       " 31     550000\n",
       " 46     500000\n",
       " 97     640000\n",
       " 12     500000\n",
       " 80     390000\n",
       " 81     390000\n",
       " 0      465000\n",
       " 82     390000\n",
       " 19     500000\n",
       " 71     490000\n",
       " 57     550000\n",
       " 73     320000\n",
       " 110    420000\n",
       " 43     550000\n",
       " 13     600000\n",
       " 37     486000\n",
       " 66     525000\n",
       " 27     550000\n",
       " 23     550000\n",
       " 32     550000\n",
       " 48     396000\n",
       " 77     325000\n",
       " Name: Price, dtype: int64)"
      ]
     },
     "execution_count": 28,
     "metadata": {},
     "output_type": "execute_result"
    }
   ],
   "source": [
    "y_train , y_test"
   ]
  },
  {
   "cell_type": "code",
   "execution_count": 29,
   "id": "fa308ed5",
   "metadata": {},
   "outputs": [],
   "source": [
    "from sklearn.linear_model import LinearRegression"
   ]
  },
  {
   "cell_type": "code",
   "execution_count": 30,
   "id": "3ced01d9",
   "metadata": {},
   "outputs": [],
   "source": [
    "# Linear regression for the model\n",
    "lr = LinearRegression()"
   ]
  },
  {
   "cell_type": "code",
   "execution_count": 31,
   "id": "c83efe7d",
   "metadata": {},
   "outputs": [],
   "source": [
    "model = lr.fit(x_train,y_train)"
   ]
  },
  {
   "cell_type": "code",
   "execution_count": 32,
   "id": "0372aefc",
   "metadata": {},
   "outputs": [],
   "source": [
    "y_pred = model.predict(x_test)"
   ]
  },
  {
   "cell_type": "code",
   "execution_count": 33,
   "id": "08fe272a",
   "metadata": {},
   "outputs": [
    {
     "data": {
      "text/plain": [
       "(array([420717.81628217, 539777.20294215, 420717.81628217, 420717.81628217,\n",
       "        500090.74072215, 420717.81628217, 500090.74072215, 579463.66516215,\n",
       "        619150.12738213, 500090.74072215, 420717.81628217, 381031.35406217,\n",
       "        539777.20294215, 420717.81628217, 500090.74072215, 500090.74072215,\n",
       "        500090.74072215, 341344.89184219, 460404.27850217, 579463.66516215,\n",
       "        579463.66516215, 500090.74072215, 500090.74072215, 500090.74072215,\n",
       "        500090.74072215, 500090.74072215, 460404.27850217, 420717.81628217]),\n",
       " 79     400000\n",
       " 11     500000\n",
       " 5      350000\n",
       " 85     320000\n",
       " 65     495000\n",
       " 69     300000\n",
       " 31     550000\n",
       " 46     500000\n",
       " 97     640000\n",
       " 12     500000\n",
       " 80     390000\n",
       " 81     390000\n",
       " 0      465000\n",
       " 82     390000\n",
       " 19     500000\n",
       " 71     490000\n",
       " 57     550000\n",
       " 73     320000\n",
       " 110    420000\n",
       " 43     550000\n",
       " 13     600000\n",
       " 37     486000\n",
       " 66     525000\n",
       " 27     550000\n",
       " 23     550000\n",
       " 32     550000\n",
       " 48     396000\n",
       " 77     325000\n",
       " Name: Price, dtype: int64)"
      ]
     },
     "execution_count": 33,
     "metadata": {},
     "output_type": "execute_result"
    }
   ],
   "source": [
    "y_pred,y_test"
   ]
  },
  {
   "cell_type": "code",
   "execution_count": 34,
   "id": "561e1afa",
   "metadata": {},
   "outputs": [],
   "source": [
    "from sklearn.metrics import mean_squared_error, r2_score,mean_absolute_error"
   ]
  },
  {
   "cell_type": "code",
   "execution_count": 35,
   "id": "c641f52f",
   "metadata": {},
   "outputs": [],
   "source": [
    "#Finding mean squared error r2 and mean absolute error\n",
    "mse = mean_squared_error(y_test, y_pred)\n",
    "mae = mean_absolute_error(y_test, y_pred)\n",
    "r2 = r2_score(y_test, y_pred)"
   ]
  },
  {
   "cell_type": "code",
   "execution_count": 36,
   "id": "b91c6104",
   "metadata": {},
   "outputs": [
    {
     "name": "stdout",
     "output_type": "stream",
     "text": [
      "Mean Squared Error: 2718820563.0700393\n",
      "Mean Absolute Error: 41925.85756077458\n",
      "R-squared Score: 0.6727697922780109\n"
     ]
    }
   ],
   "source": [
    "print(\"Mean Squared Error:\", mse)\n",
    "print(\"Mean Absolute Error:\", mae)\n",
    "print(\"R-squared Score:\", r2)"
   ]
  },
  {
   "cell_type": "code",
   "execution_count": 37,
   "id": "8746b839",
   "metadata": {},
   "outputs": [
    {
     "name": "stderr",
     "output_type": "stream",
     "text": [
      "E:\\Anaconda\\lib\\site-packages\\sklearn\\base.py:420: UserWarning: X does not have valid feature names, but LinearRegression was fitted with feature names\n",
      "  warnings.warn(\n"
     ]
    }
   ],
   "source": [
    "model_price_2022 = model.predict([[2022]])"
   ]
  },
  {
   "cell_type": "code",
   "execution_count": 38,
   "id": "158f0b8d",
   "metadata": {},
   "outputs": [
    {
     "name": "stdout",
     "output_type": "stream",
     "text": [
      "model_price_2022: [698523.05182213]\n"
     ]
    }
   ],
   "source": [
    "print(\"model_price_2022:\", model_price_2022)"
   ]
  },
  {
   "cell_type": "code",
   "execution_count": 39,
   "id": "6ac81339",
   "metadata": {},
   "outputs": [],
   "source": [
    "from sklearn.linear_model import Lasso"
   ]
  },
  {
   "cell_type": "code",
   "execution_count": 40,
   "id": "92d17825",
   "metadata": {},
   "outputs": [],
   "source": [
    "# Lasso regression for the model\n",
    "model = Lasso(alpha=0.1)"
   ]
  },
  {
   "cell_type": "code",
   "execution_count": 41,
   "id": "2a7e5950",
   "metadata": {},
   "outputs": [
    {
     "data": {
      "text/html": [
       "<style>#sk-container-id-1 {color: black;background-color: white;}#sk-container-id-1 pre{padding: 0;}#sk-container-id-1 div.sk-toggleable {background-color: white;}#sk-container-id-1 label.sk-toggleable__label {cursor: pointer;display: block;width: 100%;margin-bottom: 0;padding: 0.3em;box-sizing: border-box;text-align: center;}#sk-container-id-1 label.sk-toggleable__label-arrow:before {content: \"▸\";float: left;margin-right: 0.25em;color: #696969;}#sk-container-id-1 label.sk-toggleable__label-arrow:hover:before {color: black;}#sk-container-id-1 div.sk-estimator:hover label.sk-toggleable__label-arrow:before {color: black;}#sk-container-id-1 div.sk-toggleable__content {max-height: 0;max-width: 0;overflow: hidden;text-align: left;background-color: #f0f8ff;}#sk-container-id-1 div.sk-toggleable__content pre {margin: 0.2em;color: black;border-radius: 0.25em;background-color: #f0f8ff;}#sk-container-id-1 input.sk-toggleable__control:checked~div.sk-toggleable__content {max-height: 200px;max-width: 100%;overflow: auto;}#sk-container-id-1 input.sk-toggleable__control:checked~label.sk-toggleable__label-arrow:before {content: \"▾\";}#sk-container-id-1 div.sk-estimator input.sk-toggleable__control:checked~label.sk-toggleable__label {background-color: #d4ebff;}#sk-container-id-1 div.sk-label input.sk-toggleable__control:checked~label.sk-toggleable__label {background-color: #d4ebff;}#sk-container-id-1 input.sk-hidden--visually {border: 0;clip: rect(1px 1px 1px 1px);clip: rect(1px, 1px, 1px, 1px);height: 1px;margin: -1px;overflow: hidden;padding: 0;position: absolute;width: 1px;}#sk-container-id-1 div.sk-estimator {font-family: monospace;background-color: #f0f8ff;border: 1px dotted black;border-radius: 0.25em;box-sizing: border-box;margin-bottom: 0.5em;}#sk-container-id-1 div.sk-estimator:hover {background-color: #d4ebff;}#sk-container-id-1 div.sk-parallel-item::after {content: \"\";width: 100%;border-bottom: 1px solid gray;flex-grow: 1;}#sk-container-id-1 div.sk-label:hover label.sk-toggleable__label {background-color: #d4ebff;}#sk-container-id-1 div.sk-serial::before {content: \"\";position: absolute;border-left: 1px solid gray;box-sizing: border-box;top: 0;bottom: 0;left: 50%;z-index: 0;}#sk-container-id-1 div.sk-serial {display: flex;flex-direction: column;align-items: center;background-color: white;padding-right: 0.2em;padding-left: 0.2em;position: relative;}#sk-container-id-1 div.sk-item {position: relative;z-index: 1;}#sk-container-id-1 div.sk-parallel {display: flex;align-items: stretch;justify-content: center;background-color: white;position: relative;}#sk-container-id-1 div.sk-item::before, #sk-container-id-1 div.sk-parallel-item::before {content: \"\";position: absolute;border-left: 1px solid gray;box-sizing: border-box;top: 0;bottom: 0;left: 50%;z-index: -1;}#sk-container-id-1 div.sk-parallel-item {display: flex;flex-direction: column;z-index: 1;position: relative;background-color: white;}#sk-container-id-1 div.sk-parallel-item:first-child::after {align-self: flex-end;width: 50%;}#sk-container-id-1 div.sk-parallel-item:last-child::after {align-self: flex-start;width: 50%;}#sk-container-id-1 div.sk-parallel-item:only-child::after {width: 0;}#sk-container-id-1 div.sk-dashed-wrapped {border: 1px dashed gray;margin: 0 0.4em 0.5em 0.4em;box-sizing: border-box;padding-bottom: 0.4em;background-color: white;}#sk-container-id-1 div.sk-label label {font-family: monospace;font-weight: bold;display: inline-block;line-height: 1.2em;}#sk-container-id-1 div.sk-label-container {text-align: center;}#sk-container-id-1 div.sk-container {/* jupyter's `normalize.less` sets `[hidden] { display: none; }` but bootstrap.min.css set `[hidden] { display: none !important; }` so we also need the `!important` here to be able to override the default hidden behavior on the sphinx rendered scikit-learn.org. See: https://github.com/scikit-learn/scikit-learn/issues/21755 */display: inline-block !important;position: relative;}#sk-container-id-1 div.sk-text-repr-fallback {display: none;}</style><div id=\"sk-container-id-1\" class=\"sk-top-container\"><div class=\"sk-text-repr-fallback\"><pre>Lasso(alpha=0.1)</pre><b>In a Jupyter environment, please rerun this cell to show the HTML representation or trust the notebook. <br />On GitHub, the HTML representation is unable to render, please try loading this page with nbviewer.org.</b></div><div class=\"sk-container\" hidden><div class=\"sk-item\"><div class=\"sk-estimator sk-toggleable\"><input class=\"sk-toggleable__control sk-hidden--visually\" id=\"sk-estimator-id-1\" type=\"checkbox\" checked><label for=\"sk-estimator-id-1\" class=\"sk-toggleable__label sk-toggleable__label-arrow\">Lasso</label><div class=\"sk-toggleable__content\"><pre>Lasso(alpha=0.1)</pre></div></div></div></div></div>"
      ],
      "text/plain": [
       "Lasso(alpha=0.1)"
      ]
     },
     "execution_count": 41,
     "metadata": {},
     "output_type": "execute_result"
    }
   ],
   "source": [
    "model.fit(x_train, y_train)"
   ]
  },
  {
   "cell_type": "code",
   "execution_count": 42,
   "id": "3f5dae43",
   "metadata": {},
   "outputs": [],
   "source": [
    "y_pred = model.predict(x_test)"
   ]
  },
  {
   "cell_type": "code",
   "execution_count": 43,
   "id": "89682c4d",
   "metadata": {},
   "outputs": [],
   "source": [
    "mse = mean_squared_error(y_test, y_pred)\n",
    "mae = mean_absolute_error(y_test, y_pred)\n",
    "r2 = r2_score(y_test, y_pred)"
   ]
  },
  {
   "cell_type": "code",
   "execution_count": 44,
   "id": "396e7adc",
   "metadata": {},
   "outputs": [
    {
     "name": "stdout",
     "output_type": "stream",
     "text": [
      "Mean Squared Error: 2718822493.379424\n",
      "Mean Absolute Error: 41925.87503661907\n",
      "R-squared Score: 0.6727695599509684\n"
     ]
    }
   ],
   "source": [
    "print(\"Mean Squared Error:\", mse)\n",
    "print(\"Mean Absolute Error:\", mae)\n",
    "print(\"R-squared Score:\", r2)"
   ]
  },
  {
   "cell_type": "code",
   "execution_count": 45,
   "id": "a41b8004",
   "metadata": {},
   "outputs": [
    {
     "name": "stderr",
     "output_type": "stream",
     "text": [
      "E:\\Anaconda\\lib\\site-packages\\sklearn\\base.py:420: UserWarning: X does not have valid feature names, but Lasso was fitted with feature names\n",
      "  warnings.warn(\n"
     ]
    }
   ],
   "source": [
    "model_price_2022 = model.predict([[2022]])"
   ]
  },
  {
   "cell_type": "code",
   "execution_count": 46,
   "id": "9720c5c3",
   "metadata": {},
   "outputs": [
    {
     "name": "stdout",
     "output_type": "stream",
     "text": [
      "model_price_2022: [698522.84739774]\n"
     ]
    }
   ],
   "source": [
    "print(\"model_price_2022:\", model_price_2022)"
   ]
  },
  {
   "cell_type": "code",
   "execution_count": 47,
   "id": "33e10b9b",
   "metadata": {},
   "outputs": [
    {
     "data": {
      "image/png": "[encoded data removed]",
      "text/plain": [
       "<Figure size 640x480 with 1 Axes>"
      ]
     },
     "metadata": {},
     "output_type": "display_data"
    }
   ],
   "source": [
    "#plot the scatter plot of the data points\n",
    "plt.scatter(x_test,y_test,color='green',label='Actual')\n",
    "plt.xlabel('Year')\n",
    "plt.ylabel('Price')\n",
    "plt.title('Linear Regression')\n",
    "plt.show()"
   ]
  },
  {
   "cell_type": "code",
   "execution_count": 48,
   "id": "e44495ed",
   "metadata": {},
   "outputs": [],
   "source": [
    "#There is no such difference between the r-squared value of linear and lasso Regression"
   ]
  },
  {
   "cell_type": "code",
   "execution_count": null,
   "id": "7aa60835",
   "metadata": {},
   "outputs": [],
   "source": []
  }
 ],
 "metadata": {
  "kernelspec": {
   "display_name": "Python 3 (ipykernel)",
   "language": "python",
   "name": "python3"
  },
  "language_info": {
   "codemirror_mode": {
    "name": "ipython",
    "version": 3
   },
   "file_extension": ".py",
   "mimetype": "text/x-python",
   "name": "python",
   "nbconvert_exporter": "python",
   "pygments_lexer": "ipython3",
   "version": "3.10.9"
  }
 },
 "nbformat": 4,
 "nbformat_minor": 5
}
